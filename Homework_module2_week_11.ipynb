{
 "cells": [
  {
   "cell_type": "code",
   "execution_count": null,
   "metadata": {},
   "outputs": [],
   "source": [
    "# 1. task\n",
    "#  Which 10 companies make the most money?\n",
    "\n",
    "SELECT\n",
    "    c.company,\n",
    "    CAST(SUM(tt.trip_total) AS DECIMAL(12, 0)) AS total_fare\n",
    "FROM\n",
    "    \"chicago_taxi_db\".\"taxi_trips\" tt \n",
    "INNER JOIN\n",
    "    \"chicago_taxi_db\".\"company\" c\n",
    "    ON c.company_id = tt.company_id\n",
    "GROUP BY\n",
    "    c.company\n",
    "ORDER BY\n",
    "    total_fare DESC\n",
    "LIMIT 10\n",
    "\n"
   ]
  },
  {
   "cell_type": "code",
   "execution_count": null,
   "metadata": {},
   "outputs": [],
   "source": [
    "# 2. task\n",
    "# Which was the top 10 pickup community areas with the most rides?\n",
    "\n",
    "SELECT DISTINCT\n",
    "    c.community_name,\n",
    "    COUNT(*) AS total_rides\n",
    "FROM\n",
    "    \"chicago_taxi_db\".\"taxi_trips\" tt \n",
    "INNER JOIN\n",
    "    \"chicago_taxi_db\".\"community_areas\" c\n",
    "    ON c.area_code = tt.pickup_community_area_id\n",
    "GROUP BY\n",
    "    c.community_name\n",
    "ORDER BY\n",
    "   total_rides DESC\n",
    "LIMIT 10\n",
    "\n"
   ]
  },
  {
   "cell_type": "code",
   "execution_count": null,
   "metadata": {},
   "outputs": [],
   "source": [
    "# 3. task\n",
    "# Get the count of taxi rides per day of week.\n",
    "\n",
    "SELECT\n",
    "    COUNT(*) AS number_of_rides,\n",
    "    CASE\n",
    "        WHEN d.day_of_week = 1 THEN 'Monday'\n",
    "        WHEN d.day_of_week = 2 THEN 'Tuesday'\n",
    "        WHEN d.day_of_week = 3 THEN 'Wednesday'\n",
    "        WHEN d.day_of_week = 4 THEN 'Thursday'\n",
    "        WHEN d.day_of_week = 5 THEN 'Friday'\n",
    "        WHEN d.day_of_week = 6 THEN 'Saturday'\n",
    "        WHEN d.day_of_week = 7 THEN 'Sunday'\n",
    "    END AS day_name\n",
    "FROM\n",
    "    \"chicago_taxi_db\".\"taxi_trips\" tt\n",
    "INNER JOIN\n",
    "    \"chicago_taxi_db\".\"date\" d\n",
    "    ON d.date = tt.datetime_for_weather\n",
    "GROUP BY\n",
    "    d.day_of_week\n",
    "ORDER BY\n",
    "    number_of_rides DESC\n"
   ]
  }
 ],
 "metadata": {
  "language_info": {
   "name": "python"
  }
 },
 "nbformat": 4,
 "nbformat_minor": 2
}
