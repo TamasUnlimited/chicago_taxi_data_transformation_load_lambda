{
 "cells": [
  {
   "cell_type": "code",
   "execution_count": 103,
   "metadata": {},
   "outputs": [],
   "source": [
    "from io import StringIO\n",
    "from dotenv import load_dotenv\n",
    "\n",
    "import os\n",
    "import boto3\n",
    "import pandas as pd\n",
    "\n",
    "pd.set_option(\"display.max_columns\", 50)\n"
   ]
  },
  {
   "cell_type": "code",
   "execution_count": 104,
   "metadata": {},
   "outputs": [],
   "source": [
    "aws_access_key_id = os.getenv(\"AWS_ACCESS_KEY\")\n",
    "aws_secret_key = os.getenv(\"AWS_SECRET_KEY\")"
   ]
  },
  {
   "cell_type": "code",
   "execution_count": 105,
   "metadata": {},
   "outputs": [
    {
     "data": {
      "text/plain": [
       "True"
      ]
     },
     "execution_count": 105,
     "metadata": {},
     "output_type": "execute_result"
    }
   ],
   "source": [
    "load_dotenv()"
   ]
  },
  {
   "cell_type": "code",
   "execution_count": 106,
   "metadata": {},
   "outputs": [],
   "source": [
    "def read_csv_from_s3(bucket: str, path: str, filename: str) -> pd.DataFrame:\n",
    "    \"\"\"Downloads a csv file from an s3 bucket.\n",
    "    \n",
    "    Parameters\n",
    "    ----------\n",
    "    bucket : str\n",
    "        The bucket where the files at.\n",
    "    path : str\n",
    "        The folders to the file.\n",
    "    filename : str\n",
    "        Name of the file.\n",
    "        \n",
    "    Returns\n",
    "    -------\n",
    "    pd.DataFrame\n",
    "        A DataFrame of the Downloaded file.\n",
    "    \n",
    "    \"\"\"\n",
    "    s3 = boto3.client(\"s3\", aws_access_key_id = aws_access_key_id, aws_secret_access_key = aws_secret_key)\n",
    "    \n",
    "    full_path = f\"{path}{filename}\"\n",
    "    \n",
    "    object = s3.get_object(Bucket = bucket, Key = full_path)\n",
    "    object = object[\"Body\"].read().decode(\"utf-8\")\n",
    "    output_df = pd.read_csv(StringIO(object))\n",
    "    \n",
    "    return output_df"
   ]
  },
  {
   "cell_type": "code",
   "execution_count": 107,
   "metadata": {},
   "outputs": [],
   "source": [
    "s3 = boto3.client(\"s3\", aws_access_key_id = aws_access_key_id, aws_secret_access_key = aws_secret_key)\n",
    "bucket = \"cubix-chicago-taxi-vti\"\n",
    "\n",
    "community_areas_path = \"transformed_data/community_areas/\"\n",
    "company_path = \"transformed_data/company/\"\n",
    "date_path = \"transformed_data/date/\"\n",
    "payment_type_path = \"transformed_data/payment_type/\"\n",
    "taxi_trips_path = \"transformed_data/taxi_trips/\"\n",
    "weather_path = \"transformed_data/weather/\"\n",
    "\n"
   ]
  },
  {
   "cell_type": "code",
   "execution_count": 108,
   "metadata": {},
   "outputs": [],
   "source": [
    "community_areas = read_csv_from_s3(bucket, community_areas_path, \"community_areas_master.csv\")\n",
    "company = read_csv_from_s3(bucket, company_path, \"company_master.csv\")\n",
    "date = read_csv_from_s3(bucket, date_path, \"date_dimension.csv\")\n",
    "payment_type = read_csv_from_s3(bucket = bucket, path = payment_type_path, filename = \"payment_type_master.csv\")"
   ]
  },
  {
   "cell_type": "code",
   "execution_count": 109,
   "metadata": {},
   "outputs": [],
   "source": [
    "trips_list = []\n",
    "weather_list = []"
   ]
  },
  {
   "cell_type": "code",
   "execution_count": 110,
   "metadata": {},
   "outputs": [
    {
     "name": "stdout",
     "output_type": "stream",
     "text": [
      "taxi_2024-06-22.csv has been added.\n",
      "taxi_2024-07-01.csv has been added.\n"
     ]
    }
   ],
   "source": [
    "\n",
    "for file in s3.list_objects(Bucket = bucket, Prefix = taxi_trips_path)[\"Contents\"]:\n",
    "    taxi_trip_key = file[\"Key\"]\n",
    "    \n",
    "    if taxi_trip_key.split(\"/\") [-1].strip() != \"\":\n",
    "        if taxi_trip_key.split(\".\")[1] == \"csv\":\n",
    "            \n",
    "            filename =  taxi_trip_key.split(\"/\") [-1]\n",
    "            trip = read_csv_from_s3(bucket, taxi_trips_path, filename)\n",
    "\n",
    "            trips_list.append(trip)\n",
    "            print(f\"{filename} has been added.\")\n",
    "\n",
    "          \n",
    "                        "
   ]
  },
  {
   "cell_type": "code",
   "execution_count": 111,
   "metadata": {},
   "outputs": [],
   "source": [
    "trips = pd.concat(trips_list, ignore_index = True)"
   ]
  },
  {
   "cell_type": "code",
   "execution_count": 112,
   "metadata": {},
   "outputs": [
    {
     "data": {
      "text/plain": [
       "(17074, 20)"
      ]
     },
     "execution_count": 112,
     "metadata": {},
     "output_type": "execute_result"
    }
   ],
   "source": [
    "trips.shape"
   ]
  },
  {
   "cell_type": "code",
   "execution_count": 113,
   "metadata": {},
   "outputs": [
    {
     "name": "stdout",
     "output_type": "stream",
     "text": [
      "weather_2024-06-06.csv has been added.\n",
      "weather_2024-06-07.csv has been added.\n",
      "weather_2024-06-08.csv has been added.\n",
      "weather_2024-06-09.csv has been added.\n",
      "weather_2024-06-10.csv has been added.\n",
      "weather_2024-06-11.csv has been added.\n",
      "weather_2024-06-12.csv has been added.\n",
      "weather_2024-06-13.csv has been added.\n",
      "weather_2024-06-14.csv has been added.\n",
      "weather_2024-06-15.csv has been added.\n",
      "weather_2024-06-16.csv has been added.\n",
      "weather_2024-06-17.csv has been added.\n",
      "weather_2024-06-18.csv has been added.\n",
      "weather_2024-06-19.csv has been added.\n",
      "weather_2024-06-20.csv has been added.\n",
      "weather_2024-06-21.csv has been added.\n",
      "weather_2024-06-22.csv has been added.\n"
     ]
    }
   ],
   "source": [
    "\n",
    "for file in s3.list_objects(Bucket = bucket, Prefix = weather_path)[\"Contents\"]:\n",
    "    \n",
    "    weather_key = file[\"Key\"]\n",
    "    \n",
    "    if weather_key.split(\"/\") [-1].strip() != \"\":\n",
    "        if weather_key.split(\".\")[1] == \"csv\":\n",
    "        \n",
    "            filename = weather_key.split(\"/\") [-1]\n",
    "\n",
    "            weather_daily = read_csv_from_s3(bucket, weather_path, filename)\n",
    "\n",
    "            weather_list.append(weather_daily)\n",
    "            print(f\"{filename} has been added.\")\n",
    "\n"
   ]
  },
  {
   "cell_type": "code",
   "execution_count": 114,
   "metadata": {},
   "outputs": [],
   "source": [
    "weather = pd.concat(weather_list, ignore_index = True)"
   ]
  },
  {
   "cell_type": "code",
   "execution_count": 115,
   "metadata": {},
   "outputs": [
    {
     "name": "stdout",
     "output_type": "stream",
     "text": [
      "<class 'pandas.core.frame.DataFrame'>\n",
      "RangeIndex: 408 entries, 0 to 407\n",
      "Data columns (total 5 columns):\n",
      " #   Column         Non-Null Count  Dtype  \n",
      "---  ------         --------------  -----  \n",
      " 0   datetime       408 non-null    object \n",
      " 1   temperature    408 non-null    float64\n",
      " 2   wind_speed     408 non-null    float64\n",
      " 3   rain           408 non-null    float64\n",
      " 4   precipitation  408 non-null    float64\n",
      "dtypes: float64(4), object(1)\n",
      "memory usage: 16.1+ KB\n"
     ]
    }
   ],
   "source": [
    "weather.info()"
   ]
  },
  {
   "cell_type": "markdown",
   "metadata": {},
   "source": [
    "#### Join them together"
   ]
  },
  {
   "cell_type": "code",
   "execution_count": 169,
   "metadata": {},
   "outputs": [],
   "source": [
    "trips_full = pd.merge(trips, weather, left_on=\"datetime_for_weather\", right_on=\"datetime\", how =\"inner\")\n",
    "trips_full = trips_full.drop(columns=[\"datetime\"])"
   ]
  },
  {
   "cell_type": "code",
   "execution_count": 170,
   "metadata": {},
   "outputs": [],
   "source": [
    "trips_full = pd.merge(trips_full, company, left_on=\"company_id\", right_on=\"company_id\", how =\"inner\")\n",
    "trips_full = trips_full.drop(columns=[\"company_id\"])"
   ]
  },
  {
   "cell_type": "code",
   "execution_count": 171,
   "metadata": {},
   "outputs": [],
   "source": [
    "trips_full = pd.merge(trips_full, payment_type, left_on=\"payment_type_id\", right_on=\"payment_type_id\", how =\"inner\")\n",
    "trips_full = trips_full.drop(columns=[\"payment_type_id\"])"
   ]
  },
  {
   "cell_type": "code",
   "execution_count": 172,
   "metadata": {},
   "outputs": [],
   "source": [
    "trips_full = pd.merge(trips_full, community_areas, left_on=\"pickup_community_area_id\", right_on=\"area_code\", how =\"inner\")\n",
    "trips_full = trips_full.drop(columns=[\"pickup_community_area_id\", \"area_code\"])\n",
    "trips_full.rename(columns={\"community_name\": \"pickup_community_area_name\"}, inplace=True)"
   ]
  },
  {
   "cell_type": "code",
   "execution_count": 173,
   "metadata": {},
   "outputs": [],
   "source": [
    "trips_full = pd.merge(trips_full, community_areas, left_on=\"dropoff_community_area_id\", right_on=\"area_code\", how =\"inner\")\n",
    "trips_full = trips_full.drop(columns=[\"dropoff_community_area_id\", \"area_code\"])\n",
    "trips_full.rename(columns={\"community_name\": \"dropoff_community_area_name\"}, inplace=True)"
   ]
  },
  {
   "cell_type": "code",
   "execution_count": 174,
   "metadata": {},
   "outputs": [],
   "source": [
    "date[\"date\"] = pd.to_datetime(date[\"date\"])\n",
    "trips_full[\"trip_start_timestamp\"] = pd.to_datetime(trips_full[\"trip_start_timestamp\"])\n",
    "\n",
    "trips_full[\"trip_start_date\"] = trips_full[\"trip_start_timestamp\"].dt.date\n",
    "trips_full[\"trip_start_date\"] =pd.to_datetime(trips_full[\"trip_start_date\"])"
   ]
  },
  {
   "cell_type": "code",
   "execution_count": 175,
   "metadata": {},
   "outputs": [],
   "source": [
    "trips_full = pd.merge(trips_full, date, left_on=\"trip_start_date\", right_on=\"date\", how =\"inner\")\n",
    "trips_full = trips_full.drop(columns=[\"date\"])"
   ]
  },
  {
   "cell_type": "code",
   "execution_count": 176,
   "metadata": {},
   "outputs": [
    {
     "data": {
      "text/html": [
       "<div>\n",
       "<style scoped>\n",
       "    .dataframe tbody tr th:only-of-type {\n",
       "        vertical-align: middle;\n",
       "    }\n",
       "\n",
       "    .dataframe tbody tr th {\n",
       "        vertical-align: top;\n",
       "    }\n",
       "\n",
       "    .dataframe thead th {\n",
       "        text-align: right;\n",
       "    }\n",
       "</style>\n",
       "<table border=\"1\" class=\"dataframe\">\n",
       "  <thead>\n",
       "    <tr style=\"text-align: right;\">\n",
       "      <th></th>\n",
       "      <th>trip_id</th>\n",
       "      <th>taxi_id</th>\n",
       "      <th>trip_start_timestamp</th>\n",
       "      <th>trip_end_timestamp</th>\n",
       "      <th>trip_seconds</th>\n",
       "      <th>trip_miles</th>\n",
       "      <th>fare</th>\n",
       "      <th>tips</th>\n",
       "      <th>tolls</th>\n",
       "      <th>extras</th>\n",
       "      <th>trip_total</th>\n",
       "      <th>pickup_centroid_latitude</th>\n",
       "      <th>pickup_centroid_longitude</th>\n",
       "      <th>dropoff_centroid_latitude</th>\n",
       "      <th>dropoff_centroid_longitude</th>\n",
       "      <th>datetime_for_weather</th>\n",
       "      <th>temperature</th>\n",
       "      <th>wind_speed</th>\n",
       "      <th>rain</th>\n",
       "      <th>precipitation</th>\n",
       "      <th>company</th>\n",
       "      <th>payment_type</th>\n",
       "      <th>pickup_community_area_name</th>\n",
       "      <th>dropoff_community_area_name</th>\n",
       "      <th>trip_start_date</th>\n",
       "      <th>year</th>\n",
       "      <th>month</th>\n",
       "      <th>day</th>\n",
       "      <th>day_of_week</th>\n",
       "      <th>is_weekend</th>\n",
       "    </tr>\n",
       "  </thead>\n",
       "  <tbody>\n",
       "    <tr>\n",
       "      <th>0</th>\n",
       "      <td>5b95d44e63e4595bfa5d2100330ed1ec5832da64</td>\n",
       "      <td>a030e6189cee598b516978caa72ad33839a0bccece8353...</td>\n",
       "      <td>2024-06-22 23:45:00</td>\n",
       "      <td>2024-06-23T00:15:00.000</td>\n",
       "      <td>1724</td>\n",
       "      <td>17.62</td>\n",
       "      <td>43.75</td>\n",
       "      <td>12.31</td>\n",
       "      <td>0.0</td>\n",
       "      <td>5.0</td>\n",
       "      <td>61.56</td>\n",
       "      <td>41.979071</td>\n",
       "      <td>-87.903040</td>\n",
       "      <td>41.884987</td>\n",
       "      <td>-87.620993</td>\n",
       "      <td>2024-06-22 23:00:00</td>\n",
       "      <td>34.1</td>\n",
       "      <td>33.2</td>\n",
       "      <td>0.0</td>\n",
       "      <td>0.0</td>\n",
       "      <td>Sun Taxi</td>\n",
       "      <td>Credit Card</td>\n",
       "      <td>O'Hare</td>\n",
       "      <td>Loop</td>\n",
       "      <td>2024-06-22</td>\n",
       "      <td>2024</td>\n",
       "      <td>6</td>\n",
       "      <td>22</td>\n",
       "      <td>6</td>\n",
       "      <td>True</td>\n",
       "    </tr>\n",
       "    <tr>\n",
       "      <th>1</th>\n",
       "      <td>5d535d3567645217e25b00b97a0d9de78af03a15</td>\n",
       "      <td>bb4e75d3065311c33024a434640731c43fd2cf9e4482eb...</td>\n",
       "      <td>2024-06-22 23:45:00</td>\n",
       "      <td>2024-06-22T23:45:00.000</td>\n",
       "      <td>3</td>\n",
       "      <td>0.00</td>\n",
       "      <td>13.75</td>\n",
       "      <td>0.00</td>\n",
       "      <td>0.0</td>\n",
       "      <td>0.0</td>\n",
       "      <td>13.75</td>\n",
       "      <td>41.899602</td>\n",
       "      <td>-87.633308</td>\n",
       "      <td>41.899602</td>\n",
       "      <td>-87.633308</td>\n",
       "      <td>2024-06-22 23:00:00</td>\n",
       "      <td>34.1</td>\n",
       "      <td>33.2</td>\n",
       "      <td>0.0</td>\n",
       "      <td>0.0</td>\n",
       "      <td>Tac - Yellow Cab Association</td>\n",
       "      <td>Cash</td>\n",
       "      <td>Near North Side</td>\n",
       "      <td>Near North Side</td>\n",
       "      <td>2024-06-22</td>\n",
       "      <td>2024</td>\n",
       "      <td>6</td>\n",
       "      <td>22</td>\n",
       "      <td>6</td>\n",
       "      <td>True</td>\n",
       "    </tr>\n",
       "    <tr>\n",
       "      <th>2</th>\n",
       "      <td>5e564af11d417385a6f99c47f8251fac1779575d</td>\n",
       "      <td>7b50110eaa441d38f0dba8a06ee13d5cb2854661aafb85...</td>\n",
       "      <td>2024-06-22 23:45:00</td>\n",
       "      <td>2024-06-22T23:45:00.000</td>\n",
       "      <td>713</td>\n",
       "      <td>2.77</td>\n",
       "      <td>10.85</td>\n",
       "      <td>2.97</td>\n",
       "      <td>0.0</td>\n",
       "      <td>0.0</td>\n",
       "      <td>13.82</td>\n",
       "      <td>41.922686</td>\n",
       "      <td>-87.649489</td>\n",
       "      <td>41.944227</td>\n",
       "      <td>-87.655998</td>\n",
       "      <td>2024-06-22 23:00:00</td>\n",
       "      <td>34.1</td>\n",
       "      <td>33.2</td>\n",
       "      <td>0.0</td>\n",
       "      <td>0.0</td>\n",
       "      <td>Medallion Leasin</td>\n",
       "      <td>Mobile</td>\n",
       "      <td>Lincoln Park</td>\n",
       "      <td>Lake View</td>\n",
       "      <td>2024-06-22</td>\n",
       "      <td>2024</td>\n",
       "      <td>6</td>\n",
       "      <td>22</td>\n",
       "      <td>6</td>\n",
       "      <td>True</td>\n",
       "    </tr>\n",
       "    <tr>\n",
       "      <th>3</th>\n",
       "      <td>5ebc6ad427853d7b1e482dbaa2956a5057b2a0b3</td>\n",
       "      <td>0300862a19483bcacac6176544abf331b8a3d41ec6efda...</td>\n",
       "      <td>2024-06-22 23:45:00</td>\n",
       "      <td>2024-06-22T23:45:00.000</td>\n",
       "      <td>349</td>\n",
       "      <td>0.91</td>\n",
       "      <td>10.00</td>\n",
       "      <td>3.59</td>\n",
       "      <td>0.0</td>\n",
       "      <td>0.0</td>\n",
       "      <td>13.59</td>\n",
       "      <td>41.899602</td>\n",
       "      <td>-87.633308</td>\n",
       "      <td>41.878866</td>\n",
       "      <td>-87.625192</td>\n",
       "      <td>2024-06-22 23:00:00</td>\n",
       "      <td>34.1</td>\n",
       "      <td>33.2</td>\n",
       "      <td>0.0</td>\n",
       "      <td>0.0</td>\n",
       "      <td>Sun Taxi</td>\n",
       "      <td>Mobile</td>\n",
       "      <td>Near North Side</td>\n",
       "      <td>Loop</td>\n",
       "      <td>2024-06-22</td>\n",
       "      <td>2024</td>\n",
       "      <td>6</td>\n",
       "      <td>22</td>\n",
       "      <td>6</td>\n",
       "      <td>True</td>\n",
       "    </tr>\n",
       "    <tr>\n",
       "      <th>4</th>\n",
       "      <td>5f38f8c167b8d0914ced4b81fb0ad21e3c1a5e6e</td>\n",
       "      <td>11bb28dc5075f790bd4529d80a571002aeb69fd4145015...</td>\n",
       "      <td>2024-06-22 23:45:00</td>\n",
       "      <td>2024-06-23T00:00:00.000</td>\n",
       "      <td>331</td>\n",
       "      <td>0.80</td>\n",
       "      <td>25.00</td>\n",
       "      <td>5.10</td>\n",
       "      <td>0.0</td>\n",
       "      <td>0.0</td>\n",
       "      <td>30.60</td>\n",
       "      <td>41.880994</td>\n",
       "      <td>-87.632746</td>\n",
       "      <td>41.892042</td>\n",
       "      <td>-87.631864</td>\n",
       "      <td>2024-06-22 23:00:00</td>\n",
       "      <td>34.1</td>\n",
       "      <td>33.2</td>\n",
       "      <td>0.0</td>\n",
       "      <td>0.0</td>\n",
       "      <td>City Service</td>\n",
       "      <td>Credit Card</td>\n",
       "      <td>Loop</td>\n",
       "      <td>Near North Side</td>\n",
       "      <td>2024-06-22</td>\n",
       "      <td>2024</td>\n",
       "      <td>6</td>\n",
       "      <td>22</td>\n",
       "      <td>6</td>\n",
       "      <td>True</td>\n",
       "    </tr>\n",
       "  </tbody>\n",
       "</table>\n",
       "</div>"
      ],
      "text/plain": [
       "                                    trip_id  \\\n",
       "0  5b95d44e63e4595bfa5d2100330ed1ec5832da64   \n",
       "1  5d535d3567645217e25b00b97a0d9de78af03a15   \n",
       "2  5e564af11d417385a6f99c47f8251fac1779575d   \n",
       "3  5ebc6ad427853d7b1e482dbaa2956a5057b2a0b3   \n",
       "4  5f38f8c167b8d0914ced4b81fb0ad21e3c1a5e6e   \n",
       "\n",
       "                                             taxi_id trip_start_timestamp  \\\n",
       "0  a030e6189cee598b516978caa72ad33839a0bccece8353...  2024-06-22 23:45:00   \n",
       "1  bb4e75d3065311c33024a434640731c43fd2cf9e4482eb...  2024-06-22 23:45:00   \n",
       "2  7b50110eaa441d38f0dba8a06ee13d5cb2854661aafb85...  2024-06-22 23:45:00   \n",
       "3  0300862a19483bcacac6176544abf331b8a3d41ec6efda...  2024-06-22 23:45:00   \n",
       "4  11bb28dc5075f790bd4529d80a571002aeb69fd4145015...  2024-06-22 23:45:00   \n",
       "\n",
       "        trip_end_timestamp  trip_seconds  trip_miles   fare   tips  tolls  \\\n",
       "0  2024-06-23T00:15:00.000          1724       17.62  43.75  12.31    0.0   \n",
       "1  2024-06-22T23:45:00.000             3        0.00  13.75   0.00    0.0   \n",
       "2  2024-06-22T23:45:00.000           713        2.77  10.85   2.97    0.0   \n",
       "3  2024-06-22T23:45:00.000           349        0.91  10.00   3.59    0.0   \n",
       "4  2024-06-23T00:00:00.000           331        0.80  25.00   5.10    0.0   \n",
       "\n",
       "   extras  trip_total  pickup_centroid_latitude  pickup_centroid_longitude  \\\n",
       "0     5.0       61.56                 41.979071                 -87.903040   \n",
       "1     0.0       13.75                 41.899602                 -87.633308   \n",
       "2     0.0       13.82                 41.922686                 -87.649489   \n",
       "3     0.0       13.59                 41.899602                 -87.633308   \n",
       "4     0.0       30.60                 41.880994                 -87.632746   \n",
       "\n",
       "   dropoff_centroid_latitude  dropoff_centroid_longitude datetime_for_weather  \\\n",
       "0                  41.884987                  -87.620993  2024-06-22 23:00:00   \n",
       "1                  41.899602                  -87.633308  2024-06-22 23:00:00   \n",
       "2                  41.944227                  -87.655998  2024-06-22 23:00:00   \n",
       "3                  41.878866                  -87.625192  2024-06-22 23:00:00   \n",
       "4                  41.892042                  -87.631864  2024-06-22 23:00:00   \n",
       "\n",
       "   temperature  wind_speed  rain  precipitation                       company  \\\n",
       "0         34.1        33.2   0.0            0.0                      Sun Taxi   \n",
       "1         34.1        33.2   0.0            0.0  Tac - Yellow Cab Association   \n",
       "2         34.1        33.2   0.0            0.0              Medallion Leasin   \n",
       "3         34.1        33.2   0.0            0.0                      Sun Taxi   \n",
       "4         34.1        33.2   0.0            0.0                  City Service   \n",
       "\n",
       "  payment_type pickup_community_area_name dropoff_community_area_name  \\\n",
       "0  Credit Card                     O'Hare                        Loop   \n",
       "1         Cash            Near North Side             Near North Side   \n",
       "2       Mobile               Lincoln Park                   Lake View   \n",
       "3       Mobile            Near North Side                        Loop   \n",
       "4  Credit Card                       Loop             Near North Side   \n",
       "\n",
       "  trip_start_date  year  month  day  day_of_week  is_weekend  \n",
       "0      2024-06-22  2024      6   22            6        True  \n",
       "1      2024-06-22  2024      6   22            6        True  \n",
       "2      2024-06-22  2024      6   22            6        True  \n",
       "3      2024-06-22  2024      6   22            6        True  \n",
       "4      2024-06-22  2024      6   22            6        True  "
      ]
     },
     "execution_count": 176,
     "metadata": {},
     "output_type": "execute_result"
    }
   ],
   "source": [
    "trips_full.head()"
   ]
  }
 ],
 "metadata": {
  "kernelspec": {
   "display_name": "venv",
   "language": "python",
   "name": "python3"
  },
  "language_info": {
   "codemirror_mode": {
    "name": "ipython",
    "version": 3
   },
   "file_extension": ".py",
   "mimetype": "text/x-python",
   "name": "python",
   "nbconvert_exporter": "python",
   "pygments_lexer": "ipython3",
   "version": "3.12.5"
  }
 },
 "nbformat": 4,
 "nbformat_minor": 2
}
